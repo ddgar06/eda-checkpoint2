{
 "cells": [
  {
   "cell_type": "markdown",
   "metadata": {
    "azdata_cell_guid": "151601c9-ca7a-412e-af80-c62a87e0837e"
   },
   "source": [
    "# Checkpoint Two: Exploratory Data Analysis\n",
    "\n",
    "Now that your chosen dataset is approved, it is time to start working on your analysis. Use this notebook to perform your EDA and make notes where directed to as you work.\n",
    "\n",
    "## Getting Started\n",
    "\n",
    "Since we have not provided your dataset for you, you will need to load the necessary files in this repository. Make sure to include a link back to the original dataset here as well.\n",
    "\n",
    "My dataset:https://www.kaggle.com/datasets/dubradave/hospital-readmissions/download?datasetVersionNumber=1\n",
    "I have chosen a different database for my final project. After further analysis the databased I originally selected, rated lower in usability. I work in the healthcare field and hope to work in healthcare data analysis. With this database, I hope to determine what factors may affect hospital re-admissions.\n",
    "\n",
    "Your first task in EDA is to import necessary libraries and create a dataframe(s). Make note in the form of code comments of what your thought process is as you work on this setup task."
   ]
  },
  {
   "cell_type": "code",
   "execution_count": 1,
   "metadata": {
    "azdata_cell_guid": "7b503e37-6df5-4433-acfb-678b1346db14"
   },
   "outputs": [],
   "source": [
    "import pandas as pd\n",
    "import matplotlib.pyplot as plt\n",
    "import numpy as np\n",
    "import seaborn as sns\n"
   ]
  },
  {
   "cell_type": "code",
   "execution_count": 2,
   "metadata": {},
   "outputs": [],
   "source": [
    "#Read the the file and assign a variable name to it\n",
    "df= pd.read_csv('hospital_readmissions.csv')"
   ]
  },
  {
   "cell_type": "markdown",
   "metadata": {
    "azdata_cell_guid": "129ce836-524b-4ea8-b394-a959f9308d6a"
   },
   "source": [
    "## Get to Know the Numbers\n",
    "\n",
    "Now that you have everything setup, put any code that you use to get to know the dataframe and its rows and columns better in the cell below. You can use whatever techniques you like, except for visualizations. You will put those in a separate section.\n",
    "\n",
    "When working on your code, make sure to leave comments so that your mentors can understand your thought process."
   ]
  },
  {
   "cell_type": "code",
   "execution_count": 3,
   "metadata": {},
   "outputs": [
    {
     "data": {
      "text/plain": [
       "(25000, 17)"
      ]
     },
     "execution_count": 3,
     "metadata": {},
     "output_type": "execute_result"
    }
   ],
   "source": [
    "#See data size in columns and rows\n",
    "df.shape"
   ]
  },
  {
   "cell_type": "code",
   "execution_count": 4,
   "metadata": {
    "azdata_cell_guid": "0ca2d318-f6e8-43ef-a33e-5304d24d928d",
    "tags": []
   },
   "outputs": [
    {
     "name": "stdout",
     "output_type": "stream",
     "text": [
      "<class 'pandas.core.frame.DataFrame'>\n",
      "RangeIndex: 25000 entries, 0 to 24999\n",
      "Data columns (total 17 columns):\n",
      " #   Column             Non-Null Count  Dtype \n",
      "---  ------             --------------  ----- \n",
      " 0   age                25000 non-null  object\n",
      " 1   time_in_hospital   25000 non-null  int64 \n",
      " 2   n_lab_procedures   25000 non-null  int64 \n",
      " 3   n_procedures       25000 non-null  int64 \n",
      " 4   n_medications      25000 non-null  int64 \n",
      " 5   n_outpatient       25000 non-null  int64 \n",
      " 6   n_inpatient        25000 non-null  int64 \n",
      " 7   n_emergency        25000 non-null  int64 \n",
      " 8   medical_specialty  25000 non-null  object\n",
      " 9   diag_1             25000 non-null  object\n",
      " 10  diag_2             25000 non-null  object\n",
      " 11  diag_3             25000 non-null  object\n",
      " 12  glucose_test       25000 non-null  object\n",
      " 13  A1Ctest            25000 non-null  object\n",
      " 14  change             25000 non-null  object\n",
      " 15  diabetes_med       25000 non-null  object\n",
      " 16  readmitted         25000 non-null  object\n",
      "dtypes: int64(7), object(10)\n",
      "memory usage: 3.2+ MB\n"
     ]
    }
   ],
   "source": [
    "# what kind of data are we analyzing, what type and how many non-null values are there?\n",
    "df.info()\n"
   ]
  },
  {
   "cell_type": "code",
   "execution_count": 5,
   "metadata": {},
   "outputs": [
    {
     "data": {
      "text/html": [
       "<div>\n",
       "<style scoped>\n",
       "    .dataframe tbody tr th:only-of-type {\n",
       "        vertical-align: middle;\n",
       "    }\n",
       "\n",
       "    .dataframe tbody tr th {\n",
       "        vertical-align: top;\n",
       "    }\n",
       "\n",
       "    .dataframe thead th {\n",
       "        text-align: right;\n",
       "    }\n",
       "</style>\n",
       "<table border=\"1\" class=\"dataframe\">\n",
       "  <thead>\n",
       "    <tr style=\"text-align: right;\">\n",
       "      <th></th>\n",
       "      <th>time_in_hospital</th>\n",
       "      <th>n_lab_procedures</th>\n",
       "      <th>n_procedures</th>\n",
       "      <th>n_medications</th>\n",
       "      <th>n_outpatient</th>\n",
       "      <th>n_inpatient</th>\n",
       "      <th>n_emergency</th>\n",
       "    </tr>\n",
       "  </thead>\n",
       "  <tbody>\n",
       "    <tr>\n",
       "      <th>count</th>\n",
       "      <td>25000.00000</td>\n",
       "      <td>25000.00000</td>\n",
       "      <td>25000.000000</td>\n",
       "      <td>25000.000000</td>\n",
       "      <td>25000.000000</td>\n",
       "      <td>25000.000000</td>\n",
       "      <td>25000.000000</td>\n",
       "    </tr>\n",
       "    <tr>\n",
       "      <th>mean</th>\n",
       "      <td>4.45332</td>\n",
       "      <td>43.24076</td>\n",
       "      <td>1.352360</td>\n",
       "      <td>16.252400</td>\n",
       "      <td>0.366400</td>\n",
       "      <td>0.615960</td>\n",
       "      <td>0.186600</td>\n",
       "    </tr>\n",
       "    <tr>\n",
       "      <th>std</th>\n",
       "      <td>3.00147</td>\n",
       "      <td>19.81862</td>\n",
       "      <td>1.715179</td>\n",
       "      <td>8.060532</td>\n",
       "      <td>1.195478</td>\n",
       "      <td>1.177951</td>\n",
       "      <td>0.885873</td>\n",
       "    </tr>\n",
       "    <tr>\n",
       "      <th>min</th>\n",
       "      <td>1.00000</td>\n",
       "      <td>1.00000</td>\n",
       "      <td>0.000000</td>\n",
       "      <td>1.000000</td>\n",
       "      <td>0.000000</td>\n",
       "      <td>0.000000</td>\n",
       "      <td>0.000000</td>\n",
       "    </tr>\n",
       "    <tr>\n",
       "      <th>25%</th>\n",
       "      <td>2.00000</td>\n",
       "      <td>31.00000</td>\n",
       "      <td>0.000000</td>\n",
       "      <td>11.000000</td>\n",
       "      <td>0.000000</td>\n",
       "      <td>0.000000</td>\n",
       "      <td>0.000000</td>\n",
       "    </tr>\n",
       "    <tr>\n",
       "      <th>50%</th>\n",
       "      <td>4.00000</td>\n",
       "      <td>44.00000</td>\n",
       "      <td>1.000000</td>\n",
       "      <td>15.000000</td>\n",
       "      <td>0.000000</td>\n",
       "      <td>0.000000</td>\n",
       "      <td>0.000000</td>\n",
       "    </tr>\n",
       "    <tr>\n",
       "      <th>75%</th>\n",
       "      <td>6.00000</td>\n",
       "      <td>57.00000</td>\n",
       "      <td>2.000000</td>\n",
       "      <td>20.000000</td>\n",
       "      <td>0.000000</td>\n",
       "      <td>1.000000</td>\n",
       "      <td>0.000000</td>\n",
       "    </tr>\n",
       "    <tr>\n",
       "      <th>max</th>\n",
       "      <td>14.00000</td>\n",
       "      <td>113.00000</td>\n",
       "      <td>6.000000</td>\n",
       "      <td>79.000000</td>\n",
       "      <td>33.000000</td>\n",
       "      <td>15.000000</td>\n",
       "      <td>64.000000</td>\n",
       "    </tr>\n",
       "  </tbody>\n",
       "</table>\n",
       "</div>"
      ],
      "text/plain": [
       "       time_in_hospital  n_lab_procedures  n_procedures  n_medications  \\\n",
       "count       25000.00000       25000.00000  25000.000000   25000.000000   \n",
       "mean            4.45332          43.24076      1.352360      16.252400   \n",
       "std             3.00147          19.81862      1.715179       8.060532   \n",
       "min             1.00000           1.00000      0.000000       1.000000   \n",
       "25%             2.00000          31.00000      0.000000      11.000000   \n",
       "50%             4.00000          44.00000      1.000000      15.000000   \n",
       "75%             6.00000          57.00000      2.000000      20.000000   \n",
       "max            14.00000         113.00000      6.000000      79.000000   \n",
       "\n",
       "       n_outpatient   n_inpatient   n_emergency  \n",
       "count  25000.000000  25000.000000  25000.000000  \n",
       "mean       0.366400      0.615960      0.186600  \n",
       "std        1.195478      1.177951      0.885873  \n",
       "min        0.000000      0.000000      0.000000  \n",
       "25%        0.000000      0.000000      0.000000  \n",
       "50%        0.000000      0.000000      0.000000  \n",
       "75%        0.000000      1.000000      0.000000  \n",
       "max       33.000000     15.000000     64.000000  "
      ]
     },
     "execution_count": 5,
     "metadata": {},
     "output_type": "execute_result"
    }
   ],
   "source": [
    "#Important statistics about the dataset\n",
    "df.describe()"
   ]
  },
  {
   "cell_type": "code",
   "execution_count": 6,
   "metadata": {},
   "outputs": [
    {
     "data": {
      "text/html": [
       "<div>\n",
       "<style scoped>\n",
       "    .dataframe tbody tr th:only-of-type {\n",
       "        vertical-align: middle;\n",
       "    }\n",
       "\n",
       "    .dataframe tbody tr th {\n",
       "        vertical-align: top;\n",
       "    }\n",
       "\n",
       "    .dataframe thead th {\n",
       "        text-align: right;\n",
       "    }\n",
       "</style>\n",
       "<table border=\"1\" class=\"dataframe\">\n",
       "  <thead>\n",
       "    <tr style=\"text-align: right;\">\n",
       "      <th></th>\n",
       "      <th>age</th>\n",
       "      <th>time_in_hospital</th>\n",
       "      <th>n_lab_procedures</th>\n",
       "      <th>n_procedures</th>\n",
       "      <th>n_medications</th>\n",
       "      <th>n_outpatient</th>\n",
       "      <th>n_inpatient</th>\n",
       "      <th>n_emergency</th>\n",
       "      <th>medical_specialty</th>\n",
       "      <th>diag_1</th>\n",
       "      <th>diag_2</th>\n",
       "      <th>diag_3</th>\n",
       "      <th>glucose_test</th>\n",
       "      <th>A1Ctest</th>\n",
       "      <th>change</th>\n",
       "      <th>diabetes_med</th>\n",
       "      <th>readmitted</th>\n",
       "    </tr>\n",
       "  </thead>\n",
       "  <tbody>\n",
       "    <tr>\n",
       "      <th>0</th>\n",
       "      <td>[70-80)</td>\n",
       "      <td>8</td>\n",
       "      <td>72</td>\n",
       "      <td>1</td>\n",
       "      <td>18</td>\n",
       "      <td>2</td>\n",
       "      <td>0</td>\n",
       "      <td>0</td>\n",
       "      <td>Missing</td>\n",
       "      <td>Circulatory</td>\n",
       "      <td>Respiratory</td>\n",
       "      <td>Other</td>\n",
       "      <td>no</td>\n",
       "      <td>no</td>\n",
       "      <td>no</td>\n",
       "      <td>yes</td>\n",
       "      <td>no</td>\n",
       "    </tr>\n",
       "    <tr>\n",
       "      <th>1</th>\n",
       "      <td>[70-80)</td>\n",
       "      <td>3</td>\n",
       "      <td>34</td>\n",
       "      <td>2</td>\n",
       "      <td>13</td>\n",
       "      <td>0</td>\n",
       "      <td>0</td>\n",
       "      <td>0</td>\n",
       "      <td>Other</td>\n",
       "      <td>Other</td>\n",
       "      <td>Other</td>\n",
       "      <td>Other</td>\n",
       "      <td>no</td>\n",
       "      <td>no</td>\n",
       "      <td>no</td>\n",
       "      <td>yes</td>\n",
       "      <td>no</td>\n",
       "    </tr>\n",
       "    <tr>\n",
       "      <th>2</th>\n",
       "      <td>[50-60)</td>\n",
       "      <td>5</td>\n",
       "      <td>45</td>\n",
       "      <td>0</td>\n",
       "      <td>18</td>\n",
       "      <td>0</td>\n",
       "      <td>0</td>\n",
       "      <td>0</td>\n",
       "      <td>Missing</td>\n",
       "      <td>Circulatory</td>\n",
       "      <td>Circulatory</td>\n",
       "      <td>Circulatory</td>\n",
       "      <td>no</td>\n",
       "      <td>no</td>\n",
       "      <td>yes</td>\n",
       "      <td>yes</td>\n",
       "      <td>yes</td>\n",
       "    </tr>\n",
       "  </tbody>\n",
       "</table>\n",
       "</div>"
      ],
      "text/plain": [
       "       age  time_in_hospital  n_lab_procedures  n_procedures  n_medications  \\\n",
       "0  [70-80)                 8                72             1             18   \n",
       "1  [70-80)                 3                34             2             13   \n",
       "2  [50-60)                 5                45             0             18   \n",
       "\n",
       "   n_outpatient  n_inpatient  n_emergency medical_specialty       diag_1  \\\n",
       "0             2            0            0           Missing  Circulatory   \n",
       "1             0            0            0             Other        Other   \n",
       "2             0            0            0           Missing  Circulatory   \n",
       "\n",
       "        diag_2       diag_3 glucose_test A1Ctest change diabetes_med  \\\n",
       "0  Respiratory        Other           no      no     no          yes   \n",
       "1        Other        Other           no      no     no          yes   \n",
       "2  Circulatory  Circulatory           no      no    yes          yes   \n",
       "\n",
       "  readmitted  \n",
       "0         no  \n",
       "1         no  \n",
       "2        yes  "
      ]
     },
     "execution_count": 6,
     "metadata": {},
     "output_type": "execute_result"
    }
   ],
   "source": [
    "#overview of how the information looks at the top\n",
    "df.head(3)"
   ]
  },
  {
   "cell_type": "code",
   "execution_count": 7,
   "metadata": {},
   "outputs": [
    {
     "data": {
      "text/html": [
       "<div>\n",
       "<style scoped>\n",
       "    .dataframe tbody tr th:only-of-type {\n",
       "        vertical-align: middle;\n",
       "    }\n",
       "\n",
       "    .dataframe tbody tr th {\n",
       "        vertical-align: top;\n",
       "    }\n",
       "\n",
       "    .dataframe thead th {\n",
       "        text-align: right;\n",
       "    }\n",
       "</style>\n",
       "<table border=\"1\" class=\"dataframe\">\n",
       "  <thead>\n",
       "    <tr style=\"text-align: right;\">\n",
       "      <th></th>\n",
       "      <th>age</th>\n",
       "      <th>time_in_hospital</th>\n",
       "      <th>n_lab_procedures</th>\n",
       "      <th>n_procedures</th>\n",
       "      <th>n_medications</th>\n",
       "      <th>n_outpatient</th>\n",
       "      <th>n_inpatient</th>\n",
       "      <th>n_emergency</th>\n",
       "      <th>medical_specialty</th>\n",
       "      <th>diag_1</th>\n",
       "      <th>diag_2</th>\n",
       "      <th>diag_3</th>\n",
       "      <th>glucose_test</th>\n",
       "      <th>A1Ctest</th>\n",
       "      <th>change</th>\n",
       "      <th>diabetes_med</th>\n",
       "      <th>readmitted</th>\n",
       "    </tr>\n",
       "  </thead>\n",
       "  <tbody>\n",
       "    <tr>\n",
       "      <th>24997</th>\n",
       "      <td>[70-80)</td>\n",
       "      <td>5</td>\n",
       "      <td>12</td>\n",
       "      <td>0</td>\n",
       "      <td>6</td>\n",
       "      <td>0</td>\n",
       "      <td>1</td>\n",
       "      <td>0</td>\n",
       "      <td>Missing</td>\n",
       "      <td>Other</td>\n",
       "      <td>Other</td>\n",
       "      <td>Other</td>\n",
       "      <td>normal</td>\n",
       "      <td>no</td>\n",
       "      <td>no</td>\n",
       "      <td>no</td>\n",
       "      <td>yes</td>\n",
       "    </tr>\n",
       "    <tr>\n",
       "      <th>24998</th>\n",
       "      <td>[70-80)</td>\n",
       "      <td>2</td>\n",
       "      <td>61</td>\n",
       "      <td>3</td>\n",
       "      <td>15</td>\n",
       "      <td>0</td>\n",
       "      <td>0</td>\n",
       "      <td>0</td>\n",
       "      <td>Family/GeneralPractice</td>\n",
       "      <td>Respiratory</td>\n",
       "      <td>Diabetes</td>\n",
       "      <td>Other</td>\n",
       "      <td>no</td>\n",
       "      <td>no</td>\n",
       "      <td>yes</td>\n",
       "      <td>yes</td>\n",
       "      <td>no</td>\n",
       "    </tr>\n",
       "    <tr>\n",
       "      <th>24999</th>\n",
       "      <td>[50-60)</td>\n",
       "      <td>10</td>\n",
       "      <td>37</td>\n",
       "      <td>1</td>\n",
       "      <td>24</td>\n",
       "      <td>0</td>\n",
       "      <td>0</td>\n",
       "      <td>0</td>\n",
       "      <td>Missing</td>\n",
       "      <td>Other</td>\n",
       "      <td>Diabetes</td>\n",
       "      <td>Circulatory</td>\n",
       "      <td>no</td>\n",
       "      <td>no</td>\n",
       "      <td>no</td>\n",
       "      <td>no</td>\n",
       "      <td>yes</td>\n",
       "    </tr>\n",
       "  </tbody>\n",
       "</table>\n",
       "</div>"
      ],
      "text/plain": [
       "           age  time_in_hospital  n_lab_procedures  n_procedures  \\\n",
       "24997  [70-80)                 5                12             0   \n",
       "24998  [70-80)                 2                61             3   \n",
       "24999  [50-60)                10                37             1   \n",
       "\n",
       "       n_medications  n_outpatient  n_inpatient  n_emergency  \\\n",
       "24997              6             0            1            0   \n",
       "24998             15             0            0            0   \n",
       "24999             24             0            0            0   \n",
       "\n",
       "            medical_specialty       diag_1    diag_2       diag_3  \\\n",
       "24997                 Missing        Other     Other        Other   \n",
       "24998  Family/GeneralPractice  Respiratory  Diabetes        Other   \n",
       "24999                 Missing        Other  Diabetes  Circulatory   \n",
       "\n",
       "      glucose_test A1Ctest change diabetes_med readmitted  \n",
       "24997       normal      no     no           no        yes  \n",
       "24998           no      no    yes          yes         no  \n",
       "24999           no      no     no           no        yes  "
      ]
     },
     "execution_count": 7,
     "metadata": {},
     "output_type": "execute_result"
    }
   ],
   "source": [
    "#overview of how the information looks at the bottom of the dataframe\n",
    "df.tail(3)"
   ]
  },
  {
   "cell_type": "code",
   "execution_count": 8,
   "metadata": {},
   "outputs": [
    {
     "data": {
      "text/html": [
       "<div>\n",
       "<style scoped>\n",
       "    .dataframe tbody tr th:only-of-type {\n",
       "        vertical-align: middle;\n",
       "    }\n",
       "\n",
       "    .dataframe tbody tr th {\n",
       "        vertical-align: top;\n",
       "    }\n",
       "\n",
       "    .dataframe thead th {\n",
       "        text-align: right;\n",
       "    }\n",
       "</style>\n",
       "<table border=\"1\" class=\"dataframe\">\n",
       "  <thead>\n",
       "    <tr style=\"text-align: right;\">\n",
       "      <th></th>\n",
       "      <th>age</th>\n",
       "      <th>days</th>\n",
       "      <th>nlabs</th>\n",
       "      <th>nproc</th>\n",
       "      <th>meds</th>\n",
       "      <th>opv</th>\n",
       "      <th>inptv</th>\n",
       "      <th>erv</th>\n",
       "      <th>mdtype</th>\n",
       "      <th>diag_1</th>\n",
       "      <th>diag_2</th>\n",
       "      <th>diag_3</th>\n",
       "      <th>g_test</th>\n",
       "      <th>A1Ctest</th>\n",
       "      <th>change</th>\n",
       "      <th>diab_med</th>\n",
       "      <th>readmit</th>\n",
       "    </tr>\n",
       "  </thead>\n",
       "  <tbody>\n",
       "    <tr>\n",
       "      <th>0</th>\n",
       "      <td>[70-80)</td>\n",
       "      <td>8</td>\n",
       "      <td>72</td>\n",
       "      <td>1</td>\n",
       "      <td>18</td>\n",
       "      <td>2</td>\n",
       "      <td>0</td>\n",
       "      <td>0</td>\n",
       "      <td>Missing</td>\n",
       "      <td>Circulatory</td>\n",
       "      <td>Respiratory</td>\n",
       "      <td>Other</td>\n",
       "      <td>no</td>\n",
       "      <td>no</td>\n",
       "      <td>no</td>\n",
       "      <td>yes</td>\n",
       "      <td>no</td>\n",
       "    </tr>\n",
       "    <tr>\n",
       "      <th>1</th>\n",
       "      <td>[70-80)</td>\n",
       "      <td>3</td>\n",
       "      <td>34</td>\n",
       "      <td>2</td>\n",
       "      <td>13</td>\n",
       "      <td>0</td>\n",
       "      <td>0</td>\n",
       "      <td>0</td>\n",
       "      <td>Other</td>\n",
       "      <td>Other</td>\n",
       "      <td>Other</td>\n",
       "      <td>Other</td>\n",
       "      <td>no</td>\n",
       "      <td>no</td>\n",
       "      <td>no</td>\n",
       "      <td>yes</td>\n",
       "      <td>no</td>\n",
       "    </tr>\n",
       "    <tr>\n",
       "      <th>2</th>\n",
       "      <td>[50-60)</td>\n",
       "      <td>5</td>\n",
       "      <td>45</td>\n",
       "      <td>0</td>\n",
       "      <td>18</td>\n",
       "      <td>0</td>\n",
       "      <td>0</td>\n",
       "      <td>0</td>\n",
       "      <td>Missing</td>\n",
       "      <td>Circulatory</td>\n",
       "      <td>Circulatory</td>\n",
       "      <td>Circulatory</td>\n",
       "      <td>no</td>\n",
       "      <td>no</td>\n",
       "      <td>yes</td>\n",
       "      <td>yes</td>\n",
       "      <td>yes</td>\n",
       "    </tr>\n",
       "    <tr>\n",
       "      <th>3</th>\n",
       "      <td>[70-80)</td>\n",
       "      <td>2</td>\n",
       "      <td>36</td>\n",
       "      <td>0</td>\n",
       "      <td>12</td>\n",
       "      <td>1</td>\n",
       "      <td>0</td>\n",
       "      <td>0</td>\n",
       "      <td>Missing</td>\n",
       "      <td>Circulatory</td>\n",
       "      <td>Other</td>\n",
       "      <td>Diabetes</td>\n",
       "      <td>no</td>\n",
       "      <td>no</td>\n",
       "      <td>yes</td>\n",
       "      <td>yes</td>\n",
       "      <td>yes</td>\n",
       "    </tr>\n",
       "    <tr>\n",
       "      <th>4</th>\n",
       "      <td>[60-70)</td>\n",
       "      <td>1</td>\n",
       "      <td>42</td>\n",
       "      <td>0</td>\n",
       "      <td>7</td>\n",
       "      <td>0</td>\n",
       "      <td>0</td>\n",
       "      <td>0</td>\n",
       "      <td>InternalMedicine</td>\n",
       "      <td>Other</td>\n",
       "      <td>Circulatory</td>\n",
       "      <td>Respiratory</td>\n",
       "      <td>no</td>\n",
       "      <td>no</td>\n",
       "      <td>no</td>\n",
       "      <td>yes</td>\n",
       "      <td>no</td>\n",
       "    </tr>\n",
       "    <tr>\n",
       "      <th>...</th>\n",
       "      <td>...</td>\n",
       "      <td>...</td>\n",
       "      <td>...</td>\n",
       "      <td>...</td>\n",
       "      <td>...</td>\n",
       "      <td>...</td>\n",
       "      <td>...</td>\n",
       "      <td>...</td>\n",
       "      <td>...</td>\n",
       "      <td>...</td>\n",
       "      <td>...</td>\n",
       "      <td>...</td>\n",
       "      <td>...</td>\n",
       "      <td>...</td>\n",
       "      <td>...</td>\n",
       "      <td>...</td>\n",
       "      <td>...</td>\n",
       "    </tr>\n",
       "    <tr>\n",
       "      <th>24995</th>\n",
       "      <td>[80-90)</td>\n",
       "      <td>14</td>\n",
       "      <td>77</td>\n",
       "      <td>1</td>\n",
       "      <td>30</td>\n",
       "      <td>0</td>\n",
       "      <td>0</td>\n",
       "      <td>0</td>\n",
       "      <td>Missing</td>\n",
       "      <td>Circulatory</td>\n",
       "      <td>Other</td>\n",
       "      <td>Circulatory</td>\n",
       "      <td>no</td>\n",
       "      <td>normal</td>\n",
       "      <td>no</td>\n",
       "      <td>no</td>\n",
       "      <td>yes</td>\n",
       "    </tr>\n",
       "    <tr>\n",
       "      <th>24996</th>\n",
       "      <td>[80-90)</td>\n",
       "      <td>2</td>\n",
       "      <td>66</td>\n",
       "      <td>0</td>\n",
       "      <td>24</td>\n",
       "      <td>0</td>\n",
       "      <td>0</td>\n",
       "      <td>0</td>\n",
       "      <td>Missing</td>\n",
       "      <td>Digestive</td>\n",
       "      <td>Injury</td>\n",
       "      <td>Other</td>\n",
       "      <td>no</td>\n",
       "      <td>high</td>\n",
       "      <td>yes</td>\n",
       "      <td>yes</td>\n",
       "      <td>yes</td>\n",
       "    </tr>\n",
       "    <tr>\n",
       "      <th>24997</th>\n",
       "      <td>[70-80)</td>\n",
       "      <td>5</td>\n",
       "      <td>12</td>\n",
       "      <td>0</td>\n",
       "      <td>6</td>\n",
       "      <td>0</td>\n",
       "      <td>1</td>\n",
       "      <td>0</td>\n",
       "      <td>Missing</td>\n",
       "      <td>Other</td>\n",
       "      <td>Other</td>\n",
       "      <td>Other</td>\n",
       "      <td>normal</td>\n",
       "      <td>no</td>\n",
       "      <td>no</td>\n",
       "      <td>no</td>\n",
       "      <td>yes</td>\n",
       "    </tr>\n",
       "    <tr>\n",
       "      <th>24998</th>\n",
       "      <td>[70-80)</td>\n",
       "      <td>2</td>\n",
       "      <td>61</td>\n",
       "      <td>3</td>\n",
       "      <td>15</td>\n",
       "      <td>0</td>\n",
       "      <td>0</td>\n",
       "      <td>0</td>\n",
       "      <td>Family/GeneralPractice</td>\n",
       "      <td>Respiratory</td>\n",
       "      <td>Diabetes</td>\n",
       "      <td>Other</td>\n",
       "      <td>no</td>\n",
       "      <td>no</td>\n",
       "      <td>yes</td>\n",
       "      <td>yes</td>\n",
       "      <td>no</td>\n",
       "    </tr>\n",
       "    <tr>\n",
       "      <th>24999</th>\n",
       "      <td>[50-60)</td>\n",
       "      <td>10</td>\n",
       "      <td>37</td>\n",
       "      <td>1</td>\n",
       "      <td>24</td>\n",
       "      <td>0</td>\n",
       "      <td>0</td>\n",
       "      <td>0</td>\n",
       "      <td>Missing</td>\n",
       "      <td>Other</td>\n",
       "      <td>Diabetes</td>\n",
       "      <td>Circulatory</td>\n",
       "      <td>no</td>\n",
       "      <td>no</td>\n",
       "      <td>no</td>\n",
       "      <td>no</td>\n",
       "      <td>yes</td>\n",
       "    </tr>\n",
       "  </tbody>\n",
       "</table>\n",
       "<p>25000 rows × 17 columns</p>\n",
       "</div>"
      ],
      "text/plain": [
       "           age  days  nlabs  nproc  meds  opv  inptv  erv  \\\n",
       "0      [70-80)     8     72      1    18    2      0    0   \n",
       "1      [70-80)     3     34      2    13    0      0    0   \n",
       "2      [50-60)     5     45      0    18    0      0    0   \n",
       "3      [70-80)     2     36      0    12    1      0    0   \n",
       "4      [60-70)     1     42      0     7    0      0    0   \n",
       "...        ...   ...    ...    ...   ...  ...    ...  ...   \n",
       "24995  [80-90)    14     77      1    30    0      0    0   \n",
       "24996  [80-90)     2     66      0    24    0      0    0   \n",
       "24997  [70-80)     5     12      0     6    0      1    0   \n",
       "24998  [70-80)     2     61      3    15    0      0    0   \n",
       "24999  [50-60)    10     37      1    24    0      0    0   \n",
       "\n",
       "                       mdtype       diag_1       diag_2       diag_3  g_test  \\\n",
       "0                     Missing  Circulatory  Respiratory        Other      no   \n",
       "1                       Other        Other        Other        Other      no   \n",
       "2                     Missing  Circulatory  Circulatory  Circulatory      no   \n",
       "3                     Missing  Circulatory        Other     Diabetes      no   \n",
       "4            InternalMedicine        Other  Circulatory  Respiratory      no   \n",
       "...                       ...          ...          ...          ...     ...   \n",
       "24995                 Missing  Circulatory        Other  Circulatory      no   \n",
       "24996                 Missing    Digestive       Injury        Other      no   \n",
       "24997                 Missing        Other        Other        Other  normal   \n",
       "24998  Family/GeneralPractice  Respiratory     Diabetes        Other      no   \n",
       "24999                 Missing        Other     Diabetes  Circulatory      no   \n",
       "\n",
       "      A1Ctest change diab_med readmit  \n",
       "0          no     no      yes      no  \n",
       "1          no     no      yes      no  \n",
       "2          no    yes      yes     yes  \n",
       "3          no    yes      yes     yes  \n",
       "4          no     no      yes      no  \n",
       "...       ...    ...      ...     ...  \n",
       "24995  normal     no       no     yes  \n",
       "24996    high    yes      yes     yes  \n",
       "24997      no     no       no     yes  \n",
       "24998      no    yes      yes      no  \n",
       "24999      no     no       no     yes  \n",
       "\n",
       "[25000 rows x 17 columns]"
      ]
     },
     "execution_count": 8,
     "metadata": {},
     "output_type": "execute_result"
    }
   ],
   "source": [
    "#Some values have long names.  Changed names to condense the data and improve visual evaluation.\n",
    "df = df.rename(columns={'time_in_hospital':'days','n_outpatient':'opv','n_inpatient':'inptv','diabetes_med':'diab_med','n_lab_procedures':'nlabs','n_procedures':'nproc','n_medications':'meds','n_emergency':'erv','medical_specialty':'mdtype','glucose_test':'g_test','readmitted':'readmit'})\n",
    "df"
   ]
  },
  {
   "cell_type": "code",
   "execution_count": 10,
   "metadata": {},
   "outputs": [],
   "source": [
    "#To see all ROWS in DF.  Not running this code all the time, to save memory in the process.\n",
    "# pd.set_option('display.max_rows', None)\n",
    "# df"
   ]
  },
  {
   "cell_type": "code",
   "execution_count": 11,
   "metadata": {},
   "outputs": [
    {
     "name": "stdout",
     "output_type": "stream",
     "text": [
      "Number of duplicated rows: (0, 17)\n"
     ]
    }
   ],
   "source": [
    "#Rows containing duplicate data\n",
    "duplicate_rows_df = df[df.duplicated()]\n",
    "print(\"Number of duplicated rows:\", duplicate_rows_df.shape)"
   ]
  },
  {
   "cell_type": "markdown",
   "metadata": {
    "azdata_cell_guid": "d45060f3-97bc-484a-9ef4-66145bbe9427"
   },
   "source": [
    "## Visualize\n",
    "\n",
    "Create any visualizations for your EDA here. Make note in the form of code comments of what your thought process is for your visualizations."
   ]
  },
  {
   "cell_type": "code",
   "execution_count": 12,
   "metadata": {
    "azdata_cell_guid": "cd64bab1-db4c-4295-820d-c6464b653a3e"
   },
   "outputs": [
    {
     "data": {
      "text/plain": [
       "<AxesSubplot:xlabel='days'>"
      ]
     },
     "execution_count": 12,
     "metadata": {},
     "output_type": "execute_result"
    },
    {
     "data": {
      "image/png": "[encoded data removed]",
      "text/plain": [
       "<Figure size 432x288 with 1 Axes>"
      ]
     },
     "metadata": {
      "needs_background": "light"
     },
     "output_type": "display_data"
    }
   ],
   "source": [
    "#Average number of days pts are hospitalized.  Most hospital stays are 2-6 days. Any outliers? A couple.\n",
    "sns.boxplot(x=df['days'])"
   ]
  },
  {
   "cell_type": "code",
   "execution_count": 13,
   "metadata": {},
   "outputs": [
    {
     "data": {
      "text/plain": [
       "<AxesSubplot:xlabel='nlabs'>"
      ]
     },
     "execution_count": 13,
     "metadata": {},
     "output_type": "execute_result"
    },
    {
     "data": {
      "image/png": "[encoded data removed]",
      "text/plain": [
       "<Figure size 432x288 with 1 Axes>"
      ]
     },
     "metadata": {
      "needs_background": "light"
     },
     "output_type": "display_data"
    }
   ],
   "source": [
    "#visualization of number of labs during hospital stay.  Any outliers? Most labs between 35 and 60. Some outliers over 100.\n",
    "sns.boxplot(x=df['nlabs'])"
   ]
  },
  {
   "cell_type": "code",
   "execution_count": 14,
   "metadata": {},
   "outputs": [
    {
     "data": {
      "text/plain": [
       "<AxesSubplot:xlabel='nproc'>"
      ]
     },
     "execution_count": 14,
     "metadata": {},
     "output_type": "execute_result"
    },
    {
     "data": {
      "image/png": "[encoded data removed]",
      "text/plain": [
       "<Figure size 432x288 with 1 Axes>"
      ]
     },
     "metadata": {
      "needs_background": "light"
     },
     "output_type": "display_data"
    }
   ],
   "source": [
    "#visualization of number of procedures during hospital stay.  Any outliers?\n",
    "sns.boxplot(x=df['nproc'])"
   ]
  },
  {
   "cell_type": "code",
   "execution_count": 15,
   "metadata": {},
   "outputs": [
    {
     "data": {
      "text/plain": [
       "<AxesSubplot:xlabel='opv'>"
      ]
     },
     "execution_count": 15,
     "metadata": {},
     "output_type": "execute_result"
    },
    {
     "data": {
      "image/png": "[encoded data removed]",
      "text/plain": [
       "<Figure size 432x288 with 1 Axes>"
      ]
     },
     "metadata": {
      "needs_background": "light"
     },
     "output_type": "display_data"
    }
   ],
   "source": [
    "#visualization of number of outpatient visit before the hospital stay.  Any outliers?\n",
    "sns.boxplot(x=df['opv'])"
   ]
  },
  {
   "cell_type": "code",
   "execution_count": 16,
   "metadata": {},
   "outputs": [
    {
     "data": {
      "text/plain": [
       "<AxesSubplot:xlabel='inptv'>"
      ]
     },
     "execution_count": 16,
     "metadata": {},
     "output_type": "execute_result"
    },
    {
     "data": {
      "image/png": "[encoded data removed]",
      "text/plain": [
       "<Figure size 432x288 with 1 Axes>"
      ]
     },
     "metadata": {
      "needs_background": "light"
     },
     "output_type": "display_data"
    }
   ],
   "source": [
    "#visualization of inpatient visit before the hospital stay.  Any outliers?\n",
    "sns.boxplot(x=df['inptv'])"
   ]
  },
  {
   "cell_type": "code",
   "execution_count": 17,
   "metadata": {},
   "outputs": [
    {
     "data": {
      "text/plain": [
       "<AxesSubplot:xlabel='erv'>"
      ]
     },
     "execution_count": 17,
     "metadata": {},
     "output_type": "execute_result"
    },
    {
     "data": {
      "image/png": "[encoded data removed]",
      "text/plain": [
       "<Figure size 432x288 with 1 Axes>"
      ]
     },
     "metadata": {
      "needs_background": "light"
     },
     "output_type": "display_data"
    }
   ],
   "source": [
    "#visualization of number of ER visits before the hospital stay.  Any outliers?\n",
    "sns.boxplot(x=df['erv'])"
   ]
  },
  {
   "cell_type": "code",
   "execution_count": 18,
   "metadata": {},
   "outputs": [
    {
     "data": {
      "text/plain": [
       "Index(['no', 'yes'], dtype='object')"
      ]
     },
     "execution_count": 18,
     "metadata": {},
     "output_type": "execute_result"
    }
   ],
   "source": [
    "df['readmit'].value_counts().index"
   ]
  },
  {
   "cell_type": "code",
   "execution_count": 19,
   "metadata": {},
   "outputs": [
    {
     "data": {
      "text/plain": [
       "Text(0.5, 1.0, 'Hospitalized patients: Re-admitted?')"
      ]
     },
     "execution_count": 19,
     "metadata": {},
     "output_type": "execute_result"
    },
    {
     "data": {
      "image/png": "[encoded data removed]",
      "text/plain": [
       "<Figure size 432x288 with 1 Axes>"
      ]
     },
     "metadata": {
      "needs_background": "light"
     },
     "output_type": "display_data"
    }
   ],
   "source": [
    "#Assess the number of hospitalized patients vs non-hospitalized.  It seems like a significant number of patients are re-admitted.\n",
    "df['readmit'].value_counts().plot(kind='bar')\n",
    "plt.title('Hospitalized patients: Re-admitted?')"
   ]
  },
  {
   "cell_type": "code",
   "execution_count": 20,
   "metadata": {},
   "outputs": [
    {
     "data": {
      "text/plain": [
       "Text(0.5, 1.0, 'Physician Specialties that Admitted Patients')"
      ]
     },
     "execution_count": 20,
     "metadata": {},
     "output_type": "execute_result"
    },
    {
     "data": {
      "image/png": "[encoded data removed]",
      "text/plain": [
       "<Figure size 432x288 with 1 Axes>"
      ]
     },
     "metadata": {
      "needs_background": "light"
     },
     "output_type": "display_data"
    }
   ],
   "source": [
    "#Get a visual for the physician'specialty that admits the most patients to the hospital. After observing the results, are there any columns with a lot of missing data?  How would you handle the missing data.The specialty of most physicians is missing.  Is this relevant? \n",
    "df['mdtype'].value_counts().plot(kind='bar')\n",
    "plt.title('Physician Specialties that Admitted Patients')"
   ]
  },
  {
   "cell_type": "code",
   "execution_count": 21,
   "metadata": {},
   "outputs": [
    {
     "data": {
      "text/plain": [
       "<AxesSubplot:title={'center':'Diagnosis of Patients Admitted'}>"
      ]
     },
     "execution_count": 21,
     "metadata": {},
     "output_type": "execute_result"
    },
    {
     "data": {
      "image/png": "[encoded data removed]",
      "text/plain": [
       "<Figure size 432x288 with 1 Axes>"
      ]
     },
     "metadata": {
      "needs_background": "light"
     },
     "output_type": "display_data"
    }
   ],
   "source": [
    "#Which diagnosis has the highest number of admissions to the hospital.  Circulatory issues is the highest diagnosis for readmissions.\n",
    "df['diag_1'].value_counts().plot(kind='bar',title='Diagnosis of Patients Admitted')\n"
   ]
  },
  {
   "cell_type": "code",
   "execution_count": 22,
   "metadata": {},
   "outputs": [
    {
     "data": {
      "text/plain": [
       "<AxesSubplot:title={'center':'Age of Patients Admitted'}>"
      ]
     },
     "execution_count": 22,
     "metadata": {},
     "output_type": "execute_result"
    },
    {
     "data": {
      "image/png": "[encoded data removed]",
      "text/plain": [
       "<Figure size 432x288 with 1 Axes>"
      ]
     },
     "metadata": {
      "needs_background": "light"
     },
     "output_type": "display_data"
    }
   ],
   "source": [
    "#What is the age of most patients admitted to the hospital?  Most patients admitted are between 60-80 years of age.\n",
    "df['age'].value_counts().plot(kind='bar', title='Age of Patients Admitted')\n"
   ]
  },
  {
   "cell_type": "code",
   "execution_count": 23,
   "metadata": {
    "scrolled": true
   },
   "outputs": [
    {
     "data": {
      "text/html": [
       "<div>\n",
       "<style scoped>\n",
       "    .dataframe tbody tr th:only-of-type {\n",
       "        vertical-align: middle;\n",
       "    }\n",
       "\n",
       "    .dataframe tbody tr th {\n",
       "        vertical-align: top;\n",
       "    }\n",
       "\n",
       "    .dataframe thead th {\n",
       "        text-align: right;\n",
       "    }\n",
       "</style>\n",
       "<table border=\"1\" class=\"dataframe\">\n",
       "  <thead>\n",
       "    <tr style=\"text-align: right;\">\n",
       "      <th></th>\n",
       "      <th>days</th>\n",
       "      <th>nlabs</th>\n",
       "      <th>nproc</th>\n",
       "      <th>meds</th>\n",
       "      <th>opv</th>\n",
       "      <th>inptv</th>\n",
       "      <th>erv</th>\n",
       "    </tr>\n",
       "    <tr>\n",
       "      <th>readmit</th>\n",
       "      <th></th>\n",
       "      <th></th>\n",
       "      <th></th>\n",
       "      <th></th>\n",
       "      <th></th>\n",
       "      <th></th>\n",
       "      <th></th>\n",
       "    </tr>\n",
       "  </thead>\n",
       "  <tbody>\n",
       "    <tr>\n",
       "      <th>no</th>\n",
       "      <td>4.331345</td>\n",
       "      <td>42.625245</td>\n",
       "      <td>1.424204</td>\n",
       "      <td>15.972445</td>\n",
       "      <td>0.258871</td>\n",
       "      <td>0.380190</td>\n",
       "      <td>0.108561</td>\n",
       "    </tr>\n",
       "    <tr>\n",
       "      <th>yes</th>\n",
       "      <td>4.590778</td>\n",
       "      <td>43.934405</td>\n",
       "      <td>1.271397</td>\n",
       "      <td>16.567892</td>\n",
       "      <td>0.487579</td>\n",
       "      <td>0.881657</td>\n",
       "      <td>0.274545</td>\n",
       "    </tr>\n",
       "  </tbody>\n",
       "</table>\n",
       "</div>"
      ],
      "text/plain": [
       "             days      nlabs     nproc       meds       opv     inptv  \\\n",
       "readmit                                                                 \n",
       "no       4.331345  42.625245  1.424204  15.972445  0.258871  0.380190   \n",
       "yes      4.590778  43.934405  1.271397  16.567892  0.487579  0.881657   \n",
       "\n",
       "              erv  \n",
       "readmit            \n",
       "no       0.108561  \n",
       "yes      0.274545  "
      ]
     },
     "execution_count": 23,
     "metadata": {},
     "output_type": "execute_result"
    }
   ],
   "source": [
    "#Comparison of factors that might affect re-admission to the hospital.  On all collected values, those patients readmitted had higher number of days in the hospital, more labs done, more medications, and more visits to the doctor prior to re-admission. Is this a statistically significant difference?\n",
    "df.groupby('readmit').mean()\n"
   ]
  },
  {
   "cell_type": "code",
   "execution_count": 34,
   "metadata": {},
   "outputs": [
    {
     "data": {
      "text/plain": [
       "Text(0, 0.5, 'Number of procedures and visits')"
      ]
     },
     "execution_count": 34,
     "metadata": {},
     "output_type": "execute_result"
    },
    {
     "data": {
      "image/png": "[encoded data removed]",
      "text/plain": [
       "<Figure size 720x360 with 1 Axes>"
      ]
     },
     "metadata": {
      "needs_background": "light"
     },
     "output_type": "display_data"
    }
   ],
   "source": [
    "#Visualize the step above...\n",
    "df.groupby('readmit').mean().plot(kind='bar', figsize= (10,5))\n",
    "plt.title('Comparing Contributing Factors Based On Re-admission')\n",
    "plt.ylabel('Number of procedures and visits',fontsize =14)\n"
   ]
  },
  {
   "cell_type": "code",
   "execution_count": 26,
   "metadata": {},
   "outputs": [
    {
     "data": {
      "image/png": "[encoded data removed]",
      "text/plain": [
       "<Figure size 432x288 with 1 Axes>"
      ]
     },
     "metadata": {
      "needs_background": "light"
     },
     "output_type": "display_data"
    }
   ],
   "source": [
    "#Explore how all values in the dataframe relate.\n",
    "# df.plot(kind='bar')\n",
    "# plt.title('Hospital Re-admission')\n",
    "# plt.show()"
   ]
  },
  {
   "cell_type": "markdown",
   "metadata": {
    "azdata_cell_guid": "d4931c0c-2c09-4ee1-95d4-73dd08c2f0a6"
   },
   "source": [
    "## Summarize Your Results\n",
    "\n",
    "With your EDA complete, answer the following questions.\n",
    "\n",
    "1. Was there anything surprising about your dataset? \n",
    "There are a lot of 'other' under the primary diagnosis category. Since there are a lot of \"other' in this dataset, it will be  difficult to determine the reason for the hospitalization of a significant group of people.  Will need to determine what will do with this data.\n",
    "2. Do you have any concerns about your dataset? \n",
    "Yes. the above. Also, whether converting boolean, or rather, 'yes and no' values to numberic data for visualization process will be necessary. Also, what factors I can drop without affecting the analysis of the dataset.\n",
    "3. Is there anything you want to make note of for the next phase of your analysis, which is cleaning data? \n",
    "A lot of the medical specialties designations are missing.  Can i drop without affecting analysis?  Will need to assess whether the \"other\" category for diagnosis will be kept or not for an accurate assessment."
   ]
  }
 ],
 "metadata": {
  "kernelspec": {
   "display_name": "Python 3 (ipykernel)",
   "language": "python",
   "name": "python3"
  },
  "language_info": {
   "codemirror_mode": {
    "name": "ipython",
    "version": 3
   },
   "file_extension": ".py",
   "mimetype": "text/x-python",
   "name": "python",
   "nbconvert_exporter": "python",
   "pygments_lexer": "ipython3",
   "version": "3.9.7"
  }
 },
 "nbformat": 4,
 "nbformat_minor": 2
}
